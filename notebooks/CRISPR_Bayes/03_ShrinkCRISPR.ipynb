{
 "cells": [
  {
   "cell_type": "markdown",
   "id": "ad409e54",
   "metadata": {},
   "source": [
    "# ShrinkCRISPR"
   ]
  },
  {
   "cell_type": "code",
   "execution_count": 1,
   "id": "22becec4",
   "metadata": {},
   "outputs": [
    {
     "name": "stdout",
     "output_type": "stream",
     "text": [
      "Libraries ready\n"
     ]
    }
   ],
   "source": [
    "# Imports & options\n",
    "import pandas as pd\n",
    "import numpy as np\n",
    "from pathlib import Path\n",
    "import warnings\n",
    "warnings.filterwarnings('ignore')\n",
    "\n",
    "# Display options\n",
    "pd.set_option('display.max_columns', 120)\n",
    "pd.set_option('display.width', 160)\n",
    "\n",
    "print('Libraries ready')"
   ]
  },
  {
   "cell_type": "code",
   "execution_count": 2,
   "id": "00a58f4f",
   "metadata": {},
   "outputs": [
    {
     "name": "stdout",
     "output_type": "stream",
     "text": [
      "Data dir  : /Users/ryodaikim/Desktop/0.projects/CRISPR-bayes/data\n",
      "Figures   : /Users/ryodaikim/Desktop/0.projects/CRISPR-bayes/outputs/figures\n",
      "Tables    : /Users/ryodaikim/Desktop/0.projects/CRISPR-bayes/outputs/tables\n",
      "sgRNA file: /Users/ryodaikim/Desktop/0.projects/CRISPR-bayes/data/sgrna_summary.csv\n"
     ]
    }
   ],
   "source": [
    "# Paths\n",
    "project_root = Path('..').resolve().parent  # adjust if needed\n",
    "data_dir = project_root / 'data'\n",
    "fig_dir = project_root / 'outputs' / 'figures'\n",
    "table_dir = project_root / 'outputs' / 'tables'\n",
    "\n",
    "sgrna_file = data_dir / 'sgrna_summary.csv'\n",
    "\n",
    "# Ensure outputs exist\n",
    "fig_dir.mkdir(parents=True, exist_ok=True)\n",
    "table_dir.mkdir(parents=True, exist_ok=True)\n",
    "\n",
    "print('Data dir  :', data_dir)\n",
    "print('Figures   :', fig_dir)\n",
    "print('Tables    :', table_dir)\n",
    "print('sgRNA file:', sgrna_file)"
   ]
  },
  {
   "cell_type": "code",
   "execution_count": 3,
   "id": "6fd87fc7",
   "metadata": {},
   "outputs": [
    {
     "name": "stdout",
     "output_type": "stream",
     "text": [
      "Loaded sgRNA rows: 77,487\n"
     ]
    },
    {
     "data": {
      "application/vnd.microsoft.datawrangler.viewer.v0+json": {
       "columns": [
        {
         "name": "index",
         "rawType": "int64",
         "type": "integer"
        },
        {
         "name": "sgrna",
         "rawType": "int64",
         "type": "integer"
        },
        {
         "name": "Gene",
         "rawType": "object",
         "type": "string"
        },
        {
         "name": "control_count",
         "rawType": "object",
         "type": "string"
        },
        {
         "name": "treatment_count",
         "rawType": "object",
         "type": "string"
        },
        {
         "name": "control_mean",
         "rawType": "float64",
         "type": "float"
        },
        {
         "name": "treat_mean",
         "rawType": "float64",
         "type": "float"
        },
        {
         "name": "LFC",
         "rawType": "float64",
         "type": "float"
        },
        {
         "name": "control_var",
         "rawType": "float64",
         "type": "float"
        },
        {
         "name": "adj_var",
         "rawType": "float64",
         "type": "float"
        },
        {
         "name": "score",
         "rawType": "float64",
         "type": "float"
        },
        {
         "name": "p.low",
         "rawType": "float64",
         "type": "float"
        },
        {
         "name": "p.high",
         "rawType": "float64",
         "type": "float"
        },
        {
         "name": "p.twosided",
         "rawType": "float64",
         "type": "float"
        },
        {
         "name": "FDR",
         "rawType": "float64",
         "type": "float"
        },
        {
         "name": "high_in_treatment",
         "rawType": "bool",
         "type": "boolean"
        }
       ],
       "ref": "ec6196d1-b88d-4fff-9b1c-c2ff2bde90f2",
       "rows": [
        [
         "0",
         "77449",
         "FOXP3",
         "181.16/186.77",
         "10106/5287.9",
         "183.96",
         "7696.9",
         "5.3792",
         "15.713",
         "1576.9",
         "189.19",
         "1.0",
         "0.0",
         "0.0",
         "0.0",
         "True"
        ],
        [
         "1",
         "17754",
         "SMARCB1",
         "81.278/78.442",
         "4371/4091.6",
         "79.86",
         "4231.3",
         "5.7099",
         "4.0202",
         "642.01",
         "163.85",
         "1.0",
         "0.0",
         "0.0",
         "0.0",
         "True"
        ],
        [
         "2",
         "37463",
         "FOXP3",
         "102.82/143.81",
         "7527.5/2948.8",
         "123.32",
         "5238.1",
         "5.3972",
         "840.07",
         "1025.0",
         "159.76",
         "1.0",
         "0.0",
         "0.0",
         "0.0",
         "True"
        ],
        [
         "3",
         "77453",
         "FOXP3",
         "290.84/84.045",
         "8696.1/3933.5",
         "187.44",
         "6314.8",
         "5.0668",
         "21381.0",
         "1609.1",
         "152.75",
         "1.0",
         "0.0",
         "0.0",
         "0.0",
         "True"
        ],
        [
         "4",
         "77477",
         "FOXP3",
         "54.348/22.412",
         "3420.9/1395.3",
         "38.38",
         "2408.1",
         "5.9349",
         "509.96",
         "291.78",
         "138.73",
         "1.0",
         "0.0",
         "0.0",
         "0.0",
         "True"
        ]
       ],
       "shape": {
        "columns": 15,
        "rows": 5
       }
      },
      "text/html": [
       "<div>\n",
       "<style scoped>\n",
       "    .dataframe tbody tr th:only-of-type {\n",
       "        vertical-align: middle;\n",
       "    }\n",
       "\n",
       "    .dataframe tbody tr th {\n",
       "        vertical-align: top;\n",
       "    }\n",
       "\n",
       "    .dataframe thead th {\n",
       "        text-align: right;\n",
       "    }\n",
       "</style>\n",
       "<table border=\"1\" class=\"dataframe\">\n",
       "  <thead>\n",
       "    <tr style=\"text-align: right;\">\n",
       "      <th></th>\n",
       "      <th>sgrna</th>\n",
       "      <th>Gene</th>\n",
       "      <th>control_count</th>\n",
       "      <th>treatment_count</th>\n",
       "      <th>control_mean</th>\n",
       "      <th>treat_mean</th>\n",
       "      <th>LFC</th>\n",
       "      <th>control_var</th>\n",
       "      <th>adj_var</th>\n",
       "      <th>score</th>\n",
       "      <th>p.low</th>\n",
       "      <th>p.high</th>\n",
       "      <th>p.twosided</th>\n",
       "      <th>FDR</th>\n",
       "      <th>high_in_treatment</th>\n",
       "    </tr>\n",
       "  </thead>\n",
       "  <tbody>\n",
       "    <tr>\n",
       "      <th>0</th>\n",
       "      <td>77449</td>\n",
       "      <td>FOXP3</td>\n",
       "      <td>181.16/186.77</td>\n",
       "      <td>10106/5287.9</td>\n",
       "      <td>183.96</td>\n",
       "      <td>7696.9</td>\n",
       "      <td>5.3792</td>\n",
       "      <td>15.7130</td>\n",
       "      <td>1576.90</td>\n",
       "      <td>189.19</td>\n",
       "      <td>1.0</td>\n",
       "      <td>0.0</td>\n",
       "      <td>0.0</td>\n",
       "      <td>0.0</td>\n",
       "      <td>True</td>\n",
       "    </tr>\n",
       "    <tr>\n",
       "      <th>1</th>\n",
       "      <td>17754</td>\n",
       "      <td>SMARCB1</td>\n",
       "      <td>81.278/78.442</td>\n",
       "      <td>4371/4091.6</td>\n",
       "      <td>79.86</td>\n",
       "      <td>4231.3</td>\n",
       "      <td>5.7099</td>\n",
       "      <td>4.0202</td>\n",
       "      <td>642.01</td>\n",
       "      <td>163.85</td>\n",
       "      <td>1.0</td>\n",
       "      <td>0.0</td>\n",
       "      <td>0.0</td>\n",
       "      <td>0.0</td>\n",
       "      <td>True</td>\n",
       "    </tr>\n",
       "    <tr>\n",
       "      <th>2</th>\n",
       "      <td>37463</td>\n",
       "      <td>FOXP3</td>\n",
       "      <td>102.82/143.81</td>\n",
       "      <td>7527.5/2948.8</td>\n",
       "      <td>123.32</td>\n",
       "      <td>5238.1</td>\n",
       "      <td>5.3972</td>\n",
       "      <td>840.0700</td>\n",
       "      <td>1025.00</td>\n",
       "      <td>159.76</td>\n",
       "      <td>1.0</td>\n",
       "      <td>0.0</td>\n",
       "      <td>0.0</td>\n",
       "      <td>0.0</td>\n",
       "      <td>True</td>\n",
       "    </tr>\n",
       "    <tr>\n",
       "      <th>3</th>\n",
       "      <td>77453</td>\n",
       "      <td>FOXP3</td>\n",
       "      <td>290.84/84.045</td>\n",
       "      <td>8696.1/3933.5</td>\n",
       "      <td>187.44</td>\n",
       "      <td>6314.8</td>\n",
       "      <td>5.0668</td>\n",
       "      <td>21381.0000</td>\n",
       "      <td>1609.10</td>\n",
       "      <td>152.75</td>\n",
       "      <td>1.0</td>\n",
       "      <td>0.0</td>\n",
       "      <td>0.0</td>\n",
       "      <td>0.0</td>\n",
       "      <td>True</td>\n",
       "    </tr>\n",
       "    <tr>\n",
       "      <th>4</th>\n",
       "      <td>77477</td>\n",
       "      <td>FOXP3</td>\n",
       "      <td>54.348/22.412</td>\n",
       "      <td>3420.9/1395.3</td>\n",
       "      <td>38.38</td>\n",
       "      <td>2408.1</td>\n",
       "      <td>5.9349</td>\n",
       "      <td>509.9600</td>\n",
       "      <td>291.78</td>\n",
       "      <td>138.73</td>\n",
       "      <td>1.0</td>\n",
       "      <td>0.0</td>\n",
       "      <td>0.0</td>\n",
       "      <td>0.0</td>\n",
       "      <td>True</td>\n",
       "    </tr>\n",
       "  </tbody>\n",
       "</table>\n",
       "</div>"
      ],
      "text/plain": [
       "   sgrna     Gene  control_count treatment_count  control_mean  treat_mean     LFC  control_var  adj_var   score  p.low  p.high  p.twosided  FDR  \\\n",
       "0  77449    FOXP3  181.16/186.77    10106/5287.9        183.96      7696.9  5.3792      15.7130  1576.90  189.19    1.0     0.0         0.0  0.0   \n",
       "1  17754  SMARCB1  81.278/78.442     4371/4091.6         79.86      4231.3  5.7099       4.0202   642.01  163.85    1.0     0.0         0.0  0.0   \n",
       "2  37463    FOXP3  102.82/143.81   7527.5/2948.8        123.32      5238.1  5.3972     840.0700  1025.00  159.76    1.0     0.0         0.0  0.0   \n",
       "3  77453    FOXP3  290.84/84.045   8696.1/3933.5        187.44      6314.8  5.0668   21381.0000  1609.10  152.75    1.0     0.0         0.0  0.0   \n",
       "4  77477    FOXP3  54.348/22.412   3420.9/1395.3         38.38      2408.1  5.9349     509.9600   291.78  138.73    1.0     0.0         0.0  0.0   \n",
       "\n",
       "   high_in_treatment  \n",
       "0               True  \n",
       "1               True  \n",
       "2               True  \n",
       "3               True  \n",
       "4               True  "
      ]
     },
     "metadata": {},
     "output_type": "display_data"
    }
   ],
   "source": [
    "# Load sgRNA summary (wide format)\n",
    "assert sgrna_file.exists(), f'Missing file: {sgrna_file}'\n",
    "sgrna_wide = pd.read_csv(sgrna_file)\n",
    "print(f'Loaded sgRNA rows: {len(sgrna_wide):,}')\n",
    "\n",
    "# Peek\n",
    "display(sgrna_wide.head())\n",
    "\n",
    "# Required columns sanity check\n",
    "required_cols = {'sgrna','Gene','control_count','treatment_count'}\n",
    "missing = required_cols - set(sgrna_wide.columns)\n",
    "assert not missing, f'Missing required columns: {missing}'"
   ]
  },
  {
   "cell_type": "code",
   "execution_count": 4,
   "id": "8f68c3fd",
   "metadata": {},
   "outputs": [
    {
     "name": "stdout",
     "output_type": "stream",
     "text": [
      "Helper _parse_two_reps ready\n"
     ]
    }
   ],
   "source": [
    "# Helper to parse 'a/b' replicate fields into two floats\n",
    "\n",
    "def _parse_two_reps(val):\n",
    "    # Returns (rep1, rep2) as floats (np.nan if unavailable)\n",
    "    if pd.isna(val):\n",
    "        return np.nan, np.nan\n",
    "    # Try string normalization\n",
    "    try:\n",
    "        s = str(val).strip()\n",
    "    except Exception:\n",
    "        return np.nan, np.nan\n",
    "    parts = [p.strip() for p in s.split('/') if p.strip() != '']\n",
    "\n",
    "    if len(parts) == 0:\n",
    "        return np.nan, np.nan\n",
    "    if len(parts) == 1:\n",
    "        try:\n",
    "            x = float(parts[0])\n",
    "        except Exception:\n",
    "            x = np.nan\n",
    "        return x, x\n",
    "\n",
    "    # len(parts) >= 2 → take first two entries\n",
    "    try:\n",
    "        a = float(parts[0])\n",
    "    except Exception:\n",
    "        a = np.nan\n",
    "    try:\n",
    "        b = float(parts[1])\n",
    "    except Exception:\n",
    "        b = np.nan\n",
    "    return a, b\n",
    "\n",
    "print(\"Helper _parse_two_reps ready\")"
   ]
  },
  {
   "cell_type": "code",
   "execution_count": 5,
   "id": "acc78a2a",
   "metadata": {},
   "outputs": [
    {
     "data": {
      "application/vnd.microsoft.datawrangler.viewer.v0+json": {
       "columns": [
        {
         "name": "index",
         "rawType": "int64",
         "type": "integer"
        },
        {
         "name": "sgrna",
         "rawType": "int64",
         "type": "integer"
        },
        {
         "name": "Gene",
         "rawType": "object",
         "type": "string"
        },
        {
         "name": "control_r1",
         "rawType": "float64",
         "type": "float"
        },
        {
         "name": "control_r2",
         "rawType": "float64",
         "type": "float"
        },
        {
         "name": "treatment_r1",
         "rawType": "float64",
         "type": "float"
        },
        {
         "name": "treatment_r2",
         "rawType": "float64",
         "type": "float"
        }
       ],
       "ref": "dbeb110f-d3a9-4a45-8130-6c6d347010ce",
       "rows": [
        [
         "0",
         "77449",
         "FOXP3",
         "181.16",
         "186.77",
         "10106.0",
         "5287.9"
        ],
        [
         "1",
         "17754",
         "SMARCB1",
         "81.278",
         "78.442",
         "4371.0",
         "4091.6"
        ],
        [
         "2",
         "37463",
         "FOXP3",
         "102.82",
         "143.81",
         "7527.5",
         "2948.8"
        ],
        [
         "3",
         "77453",
         "FOXP3",
         "290.84",
         "84.045",
         "8696.1",
         "3933.5"
        ],
        [
         "4",
         "77477",
         "FOXP3",
         "54.348",
         "22.412",
         "3420.9",
         "1395.3"
        ]
       ],
       "shape": {
        "columns": 6,
        "rows": 5
       }
      },
      "text/html": [
       "<div>\n",
       "<style scoped>\n",
       "    .dataframe tbody tr th:only-of-type {\n",
       "        vertical-align: middle;\n",
       "    }\n",
       "\n",
       "    .dataframe tbody tr th {\n",
       "        vertical-align: top;\n",
       "    }\n",
       "\n",
       "    .dataframe thead th {\n",
       "        text-align: right;\n",
       "    }\n",
       "</style>\n",
       "<table border=\"1\" class=\"dataframe\">\n",
       "  <thead>\n",
       "    <tr style=\"text-align: right;\">\n",
       "      <th></th>\n",
       "      <th>sgrna</th>\n",
       "      <th>Gene</th>\n",
       "      <th>control_r1</th>\n",
       "      <th>control_r2</th>\n",
       "      <th>treatment_r1</th>\n",
       "      <th>treatment_r2</th>\n",
       "    </tr>\n",
       "  </thead>\n",
       "  <tbody>\n",
       "    <tr>\n",
       "      <th>0</th>\n",
       "      <td>77449</td>\n",
       "      <td>FOXP3</td>\n",
       "      <td>181.160</td>\n",
       "      <td>186.770</td>\n",
       "      <td>10106.0</td>\n",
       "      <td>5287.9</td>\n",
       "    </tr>\n",
       "    <tr>\n",
       "      <th>1</th>\n",
       "      <td>17754</td>\n",
       "      <td>SMARCB1</td>\n",
       "      <td>81.278</td>\n",
       "      <td>78.442</td>\n",
       "      <td>4371.0</td>\n",
       "      <td>4091.6</td>\n",
       "    </tr>\n",
       "    <tr>\n",
       "      <th>2</th>\n",
       "      <td>37463</td>\n",
       "      <td>FOXP3</td>\n",
       "      <td>102.820</td>\n",
       "      <td>143.810</td>\n",
       "      <td>7527.5</td>\n",
       "      <td>2948.8</td>\n",
       "    </tr>\n",
       "    <tr>\n",
       "      <th>3</th>\n",
       "      <td>77453</td>\n",
       "      <td>FOXP3</td>\n",
       "      <td>290.840</td>\n",
       "      <td>84.045</td>\n",
       "      <td>8696.1</td>\n",
       "      <td>3933.5</td>\n",
       "    </tr>\n",
       "    <tr>\n",
       "      <th>4</th>\n",
       "      <td>77477</td>\n",
       "      <td>FOXP3</td>\n",
       "      <td>54.348</td>\n",
       "      <td>22.412</td>\n",
       "      <td>3420.9</td>\n",
       "      <td>1395.3</td>\n",
       "    </tr>\n",
       "  </tbody>\n",
       "</table>\n",
       "</div>"
      ],
      "text/plain": [
       "   sgrna     Gene  control_r1  control_r2  treatment_r1  treatment_r2\n",
       "0  77449    FOXP3     181.160     186.770       10106.0        5287.9\n",
       "1  17754  SMARCB1      81.278      78.442        4371.0        4091.6\n",
       "2  37463    FOXP3     102.820     143.810        7527.5        2948.8\n",
       "3  77453    FOXP3     290.840      84.045        8696.1        3933.5\n",
       "4  77477    FOXP3      54.348      22.412        3420.9        1395.3"
      ]
     },
     "metadata": {},
     "output_type": "display_data"
    }
   ],
   "source": [
    "# Parse replicate counts and attach numeric columns\n",
    "ctrl_r1, ctrl_r2 = zip(*sgrna_wide['control_count'].map(_parse_two_reps))\n",
    "trt_r1, trt_r2   = zip(*sgrna_wide['treatment_count'].map(_parse_two_reps))\n",
    "\n",
    "sgrna_wide = sgrna_wide.assign(\n",
    "    control_r1=pd.to_numeric(ctrl_r1, errors='coerce'),\n",
    "    control_r2=pd.to_numeric(ctrl_r2, errors='coerce'),\n",
    "    treatment_r1=pd.to_numeric(trt_r1, errors='coerce'),\n",
    "    treatment_r2=pd.to_numeric(trt_r2, errors='coerce')\n",
    ")\n",
    "\n",
    "display(sgrna_wide[['sgrna','Gene','control_r1','control_r2','treatment_r1','treatment_r2']].head())"
   ]
  },
  {
   "cell_type": "code",
   "execution_count": 6,
   "id": "3bd494ac",
   "metadata": {},
   "outputs": [
    {
     "name": "stdout",
     "output_type": "stream",
     "text": [
      "Tidy counts shape: (309948, 7)\n",
      "Samples: ['control_r1' 'control_r2' 'treatment_r1' 'treatment_r2']\n",
      "NaN counts: 0\n"
     ]
    },
    {
     "data": {
      "application/vnd.microsoft.datawrangler.viewer.v0+json": {
       "columns": [
        {
         "name": "index",
         "rawType": "int64",
         "type": "integer"
        },
        {
         "name": "sgrna",
         "rawType": "int64",
         "type": "integer"
        },
        {
         "name": "gene",
         "rawType": "object",
         "type": "string"
        },
        {
         "name": "condition",
         "rawType": "object",
         "type": "string"
        },
        {
         "name": "replicate",
         "rawType": "int64",
         "type": "integer"
        },
        {
         "name": "sample_id",
         "rawType": "object",
         "type": "string"
        },
        {
         "name": "count",
         "rawType": "float64",
         "type": "float"
        },
        {
         "name": "size_factor",
         "rawType": "float64",
         "type": "float"
        }
       ],
       "ref": "f2e41c6b-54ac-4830-91f0-e50ef62a972c",
       "rows": [
        [
         "0",
         "77449",
         "FOXP3",
         "control",
         "1",
         "control_r1",
         "181.16",
         "0.993117791999962"
        ],
        [
         "1",
         "77449",
         "FOXP3",
         "control",
         "2",
         "control_r2",
         "186.77",
         "0.9993181410796793"
        ],
        [
         "2",
         "77449",
         "FOXP3",
         "treatment",
         "1",
         "treatment_r1",
         "10106.0",
         "1.002837430920914"
        ],
        [
         "3",
         "77449",
         "FOXP3",
         "treatment",
         "2",
         "treatment_r2",
         "5287.9",
         "1.0047659995130758"
        ],
        [
         "4",
         "17754",
         "SMARCB1",
         "control",
         "1",
         "control_r1",
         "81.278",
         "0.993117791999962"
        ]
       ],
       "shape": {
        "columns": 7,
        "rows": 5
       }
      },
      "text/html": [
       "<div>\n",
       "<style scoped>\n",
       "    .dataframe tbody tr th:only-of-type {\n",
       "        vertical-align: middle;\n",
       "    }\n",
       "\n",
       "    .dataframe tbody tr th {\n",
       "        vertical-align: top;\n",
       "    }\n",
       "\n",
       "    .dataframe thead th {\n",
       "        text-align: right;\n",
       "    }\n",
       "</style>\n",
       "<table border=\"1\" class=\"dataframe\">\n",
       "  <thead>\n",
       "    <tr style=\"text-align: right;\">\n",
       "      <th></th>\n",
       "      <th>sgrna</th>\n",
       "      <th>gene</th>\n",
       "      <th>condition</th>\n",
       "      <th>replicate</th>\n",
       "      <th>sample_id</th>\n",
       "      <th>count</th>\n",
       "      <th>size_factor</th>\n",
       "    </tr>\n",
       "  </thead>\n",
       "  <tbody>\n",
       "    <tr>\n",
       "      <th>0</th>\n",
       "      <td>77449</td>\n",
       "      <td>FOXP3</td>\n",
       "      <td>control</td>\n",
       "      <td>1</td>\n",
       "      <td>control_r1</td>\n",
       "      <td>181.160</td>\n",
       "      <td>0.993118</td>\n",
       "    </tr>\n",
       "    <tr>\n",
       "      <th>1</th>\n",
       "      <td>77449</td>\n",
       "      <td>FOXP3</td>\n",
       "      <td>control</td>\n",
       "      <td>2</td>\n",
       "      <td>control_r2</td>\n",
       "      <td>186.770</td>\n",
       "      <td>0.999318</td>\n",
       "    </tr>\n",
       "    <tr>\n",
       "      <th>2</th>\n",
       "      <td>77449</td>\n",
       "      <td>FOXP3</td>\n",
       "      <td>treatment</td>\n",
       "      <td>1</td>\n",
       "      <td>treatment_r1</td>\n",
       "      <td>10106.000</td>\n",
       "      <td>1.002837</td>\n",
       "    </tr>\n",
       "    <tr>\n",
       "      <th>3</th>\n",
       "      <td>77449</td>\n",
       "      <td>FOXP3</td>\n",
       "      <td>treatment</td>\n",
       "      <td>2</td>\n",
       "      <td>treatment_r2</td>\n",
       "      <td>5287.900</td>\n",
       "      <td>1.004766</td>\n",
       "    </tr>\n",
       "    <tr>\n",
       "      <th>4</th>\n",
       "      <td>17754</td>\n",
       "      <td>SMARCB1</td>\n",
       "      <td>control</td>\n",
       "      <td>1</td>\n",
       "      <td>control_r1</td>\n",
       "      <td>81.278</td>\n",
       "      <td>0.993118</td>\n",
       "    </tr>\n",
       "  </tbody>\n",
       "</table>\n",
       "</div>"
      ],
      "text/plain": [
       "   sgrna     gene  condition  replicate     sample_id      count  size_factor\n",
       "0  77449    FOXP3    control          1    control_r1    181.160     0.993118\n",
       "1  77449    FOXP3    control          2    control_r2    186.770     0.999318\n",
       "2  77449    FOXP3  treatment          1  treatment_r1  10106.000     1.002837\n",
       "3  77449    FOXP3  treatment          2  treatment_r2   5287.900     1.004766\n",
       "4  17754  SMARCB1    control          1    control_r1     81.278     0.993118"
      ]
     },
     "metadata": {},
     "output_type": "display_data"
    }
   ],
   "source": [
    "# Build tidy long-form count table (one row per sgRNA x sample)\n",
    "# Assumptions:\n",
    "# - treatment = FOXP3-low; control = FOXP3-high\n",
    "# - Two replicates for each condition: r1, r2\n",
    "\n",
    "rows = []\n",
    "for _, row in sgrna_wide.iterrows():\n",
    "    sg = row['sgrna']\n",
    "    gene = row['Gene']\n",
    "    # Control (FOXP3-high)\n",
    "    rows.append({\n",
    "        'sgrna': sg,\n",
    "        'gene': gene,\n",
    "        'condition': 'control',\n",
    "        'replicate': 1,\n",
    "        'sample_id': 'control_r1',\n",
    "        'count': row.get('control_r1', np.nan)\n",
    "    })\n",
    "    rows.append({\n",
    "        'sgrna': sg,\n",
    "        'gene': gene,\n",
    "        'condition': 'control',\n",
    "        'replicate': 2,\n",
    "        'sample_id': 'control_r2',\n",
    "        'count': row.get('control_r2', np.nan)\n",
    "    })\n",
    "    # Treatment (FOXP3-low)\n",
    "    rows.append({\n",
    "        'sgrna': sg,\n",
    "        'gene': gene,\n",
    "        'condition': 'treatment',\n",
    "        'replicate': 1,\n",
    "        'sample_id': 'treatment_r1',\n",
    "        'count': row.get('treatment_r1', np.nan)\n",
    "    })\n",
    "    rows.append({\n",
    "        'sgrna': sg,\n",
    "        'gene': gene,\n",
    "        'condition': 'treatment',\n",
    "        'replicate': 2,\n",
    "        'sample_id': 'treatment_r2',\n",
    "        'count': row.get('treatment_r2', np.nan)\n",
    "    })\n",
    "\n",
    "counts_long = pd.DataFrame(rows)\n",
    "\n",
    "# Library-size normalization: per-sample size factors\n",
    "lib_sizes = counts_long.groupby('sample_id')['count'].sum()\n",
    "geom_mean = np.exp(np.log(lib_sizes.replace(0, np.nan)).mean())\n",
    "size_factors = (lib_sizes / geom_mean).replace([np.inf, -np.inf], np.nan)\n",
    "size_factors = size_factors.fillna(1.0)\n",
    "size_factors = size_factors.rename('size_factor').reset_index()\n",
    "\n",
    "# Add size factors (counts_long already has condition/replicate)\n",
    "counts_long = counts_long.merge(size_factors, on='sample_id', how='left')\n",
    "\n",
    "print('Tidy counts shape:', counts_long.shape)\n",
    "print('Samples:', counts_long['sample_id'].unique())\n",
    "print('NaN counts:', counts_long['count'].isna().sum())\n",
    "\n",
    "display(counts_long.head())"
   ]
  },
  {
   "cell_type": "code",
   "execution_count": 7,
   "id": "be579ad0",
   "metadata": {},
   "outputs": [
    {
     "name": "stdout",
     "output_type": "stream",
     "text": [
      "QA/QC — sample summary:\n"
     ]
    },
    {
     "data": {
      "application/vnd.microsoft.datawrangler.viewer.v0+json": {
       "columns": [
        {
         "name": "index",
         "rawType": "int64",
         "type": "integer"
        },
        {
         "name": "sample_id",
         "rawType": "object",
         "type": "string"
        },
        {
         "name": "total_count",
         "rawType": "float64",
         "type": "float"
        },
        {
         "name": "zero_count",
         "rawType": "int64",
         "type": "integer"
        },
        {
         "name": "n_sgrna",
         "rawType": "int64",
         "type": "integer"
        },
        {
         "name": "size_factor",
         "rawType": "float64",
         "type": "float"
        },
        {
         "name": "nonzero",
         "rawType": "int64",
         "type": "integer"
        }
       ],
       "ref": "249dae5f-d9dd-43d7-9741-9c2e183deb9d",
       "rows": [
        [
         "0",
         "control_r1",
         "27169910.8216",
         "8",
         "77487",
         "0.993117791999962",
         "77479"
        ],
        [
         "1",
         "control_r2",
         "27339541.1846",
         "14",
         "77487",
         "0.9993181410796793",
         "77473"
        ],
        [
         "2",
         "treatment_r1",
         "27435822.6045",
         "2",
         "77487",
         "1.002837430920914",
         "77485"
        ],
        [
         "3",
         "treatment_r2",
         "27488584.7613",
         "7",
         "77487",
         "1.0047659995130758",
         "77480"
        ]
       ],
       "shape": {
        "columns": 6,
        "rows": 4
       }
      },
      "text/html": [
       "<div>\n",
       "<style scoped>\n",
       "    .dataframe tbody tr th:only-of-type {\n",
       "        vertical-align: middle;\n",
       "    }\n",
       "\n",
       "    .dataframe tbody tr th {\n",
       "        vertical-align: top;\n",
       "    }\n",
       "\n",
       "    .dataframe thead th {\n",
       "        text-align: right;\n",
       "    }\n",
       "</style>\n",
       "<table border=\"1\" class=\"dataframe\">\n",
       "  <thead>\n",
       "    <tr style=\"text-align: right;\">\n",
       "      <th></th>\n",
       "      <th>sample_id</th>\n",
       "      <th>total_count</th>\n",
       "      <th>zero_count</th>\n",
       "      <th>n_sgrna</th>\n",
       "      <th>size_factor</th>\n",
       "      <th>nonzero</th>\n",
       "    </tr>\n",
       "  </thead>\n",
       "  <tbody>\n",
       "    <tr>\n",
       "      <th>0</th>\n",
       "      <td>control_r1</td>\n",
       "      <td>2.716991e+07</td>\n",
       "      <td>8</td>\n",
       "      <td>77487</td>\n",
       "      <td>0.993118</td>\n",
       "      <td>77479</td>\n",
       "    </tr>\n",
       "    <tr>\n",
       "      <th>1</th>\n",
       "      <td>control_r2</td>\n",
       "      <td>2.733954e+07</td>\n",
       "      <td>14</td>\n",
       "      <td>77487</td>\n",
       "      <td>0.999318</td>\n",
       "      <td>77473</td>\n",
       "    </tr>\n",
       "    <tr>\n",
       "      <th>2</th>\n",
       "      <td>treatment_r1</td>\n",
       "      <td>2.743582e+07</td>\n",
       "      <td>2</td>\n",
       "      <td>77487</td>\n",
       "      <td>1.002837</td>\n",
       "      <td>77485</td>\n",
       "    </tr>\n",
       "    <tr>\n",
       "      <th>3</th>\n",
       "      <td>treatment_r2</td>\n",
       "      <td>2.748858e+07</td>\n",
       "      <td>7</td>\n",
       "      <td>77487</td>\n",
       "      <td>1.004766</td>\n",
       "      <td>77480</td>\n",
       "    </tr>\n",
       "  </tbody>\n",
       "</table>\n",
       "</div>"
      ],
      "text/plain": [
       "      sample_id   total_count  zero_count  n_sgrna  size_factor  nonzero\n",
       "0    control_r1  2.716991e+07           8    77487     0.993118    77479\n",
       "1    control_r2  2.733954e+07          14    77487     0.999318    77473\n",
       "2  treatment_r1  2.743582e+07           2    77487     1.002837    77485\n",
       "3  treatment_r2  2.748858e+07           7    77487     1.004766    77480"
      ]
     },
     "metadata": {},
     "output_type": "display_data"
    }
   ],
   "source": [
    "# QA/QC: Sample-level summaries\n",
    "import matplotlib.pyplot as plt\n",
    "import seaborn as sns\n",
    "import arviz as az\n",
    "\n",
    "plt.style.use('arviz-docgrid')\n",
    "\n",
    "# Totals, zeros, unique sgRNAs per sample\n",
    "sample_totals = counts_long.groupby('sample_id')['count'].sum().rename('total_count')\n",
    "zero_counts = (\n",
    "    counts_long.assign(is_zero=(counts_long['count'] == 0))\n",
    "    .groupby('sample_id')['is_zero']\n",
    "    .sum()\n",
    "    .rename('zero_count')\n",
    ")\n",
    "n_sgrna = counts_long.groupby('sample_id')['sgrna'].nunique().rename('n_sgrna')\n",
    "\n",
    "# Size factors (already merged)\n",
    "sf = (\n",
    "    counts_long[['sample_id','size_factor']]\n",
    "    .drop_duplicates()\n",
    "    .set_index('sample_id')['size_factor']\n",
    ")\n",
    "\n",
    "summary = pd.concat([sample_totals, zero_counts, n_sgrna, sf], axis=1).reset_index()\n",
    "summary['nonzero'] = summary['n_sgrna'] - summary['zero_count']\n",
    "\n",
    "print('QA/QC — sample summary:')\n",
    "display(summary)\n"
   ]
  },
  {
   "cell_type": "code",
   "execution_count": 8,
   "id": "c2a98f38",
   "metadata": {},
   "outputs": [
    {
     "name": "stdout",
     "output_type": "stream",
     "text": [
      "Saved tidy counts to: /Users/ryodaikim/Desktop/0.projects/CRISPR-bayes/outputs/tables/tidy_counts.csv\n"
     ]
    }
   ],
   "source": [
    "# Save tidy counts to outputs/tables\n",
    "out_path = table_dir / 'tidy_counts.csv'\n",
    "counts_long.to_csv(out_path, index=False)\n",
    "print(f'Saved tidy counts to: {out_path}')"
   ]
  },
  {
   "cell_type": "markdown",
   "id": "53e439ce",
   "metadata": {},
   "source": [
    "## ShrinkCRISPR pipeline\n",
    "1) Configuration and helpers\n",
    "2) sgRNA-level log2 fold-changes (paired)\n",
    "3) Gene-level EB aggregation (DL τ²)\n",
    "4) Save outputs\n",
    "5) Volcano plot\n",
    "6) Optional overlaps with NB NUTS / MAGeCK"
   ]
  },
  {
   "cell_type": "code",
   "execution_count": 9,
   "id": "fe8ab04f",
   "metadata": {},
   "outputs": [
    {
     "name": "stdout",
     "output_type": "stream",
     "text": [
      "ShrinkConfig(paired=True, pseudocount=0.5, lfc_base=2.0, use_rscreenorm=False, neg_ctrl_genes_path=None, pos_ctrl_genes_path=None, min_guides_per_gene=2, alpha_lfdr=0.1, lfsr_max=0.15, effect_thresh=0.3, prob_min=0.85, condition_levels=('control', 'treatment'))\n"
     ]
    }
   ],
   "source": [
    "# 1) Configuration and helpers\n",
    "from dataclasses import dataclass\n",
    "import numpy as np\n",
    "import pandas as pd\n",
    "from pathlib import Path\n",
    "\n",
    "@dataclass\n",
    "class ShrinkConfig:\n",
    "    # Design and preprocessing\n",
    "    paired: bool = True  # True = paired design (T0 cancels); False = independent design (need T0)\n",
    "    pseudocount: float = 0.5\n",
    "    lfc_base: float = 2.0\n",
    "    use_rscreenorm: bool = False  # If True and control sets provided, compute rscreenorm-style lethality scores\n",
    "    neg_ctrl_genes_path: Path | None = None  # optional path to a file listing negative control genes (one per line)\n",
    "    pos_ctrl_genes_path: Path | None = None  # optional path to a file listing positive control genes (one per line)\n",
    "\n",
    "    # Aggregation and testing\n",
    "    min_guides_per_gene: int = 2\n",
    "    alpha_lfdr: float = 0.10  # paper examples: lfdr 0.05 (sims), 0.10 (cisplatin)\n",
    "\n",
    "    # Legacy thresholds (kept for compatibility/extra filters)\n",
    "    lfsr_max: float = 0.15\n",
    "    effect_thresh: float = 0.3\n",
    "    prob_min: float = 0.85\n",
    "\n",
    "    # Labels\n",
    "    condition_levels: tuple[str, str] = (\"control\", \"treatment\")\n",
    "\n",
    "CFG = ShrinkConfig()\n",
    "print(CFG)\n",
    "\n",
    "def benjamini_hochberg(pvals: pd.Series, alpha: float = 0.05) -> pd.Series:\n",
    "    p = pvals.fillna(1.0).values\n",
    "    n = len(p)\n",
    "    order = np.argsort(p)\n",
    "    ranked = np.empty(n)\n",
    "    ranked[order] = np.arange(1, n + 1)\n",
    "    q = p * n / ranked\n",
    "    q_sorted = np.minimum.accumulate(q[order][::-1])[::-1]\n",
    "    qvals = np.empty(n)\n",
    "    qvals[order] = np.clip(q_sorted, 0, 1)\n",
    "    return pd.Series(qvals, index=pvals.index, name='qval')\n",
    "\n",
    "def _load_ctrl_gene_sets(neg_path: Path | None, pos_path: Path | None) -> tuple[set[str], set[str]]:\n",
    "    neg, pos = set(), set()\n",
    "    if neg_path and Path(neg_path).exists():\n",
    "        neg = {ln.strip() for ln in Path(neg_path).read_text().splitlines() if ln.strip()}\n",
    "    if pos_path and Path(pos_path).exists():\n",
    "        pos = {ln.strip() for ln in Path(pos_path).read_text().splitlines() if ln.strip()}\n",
    "    return neg, pos"
   ]
  },
  {
   "cell_type": "code",
   "execution_count": 10,
   "id": "f0593ad2",
   "metadata": {},
   "outputs": [
    {
     "name": "stdout",
     "output_type": "stream",
     "text": [
      "sgRNA effects: 154972 | genes kept: 19112 | metric: lfc\n"
     ]
    }
   ],
   "source": [
    "# 2) sgRNA-level effects: from normalized counts to LFC or rscreenorm lethality\n",
    "# Paper options:\n",
    "# - Paired design: compare treated vs control replicates (T0 cancels). We compute LFC per sgRNA×replicate.\n",
    "# - Independent design: include T0 to form fold changes first; optional rscreenorm to map to lethality in [0,1].\n",
    "\n",
    "# We currently have counts for end-point only; no explicit T0 columns in this dataset.\n",
    "# For this notebook, we implement the paired design path and optional rscreenorm scaffolding if control sets exist.\n",
    "\n",
    "df = counts_long.copy()\n",
    "cond_ctrl, cond_trt = CFG.condition_levels\n",
    "keep_cols = ['sgrna','gene','condition','replicate','sample_id','count','size_factor']\n",
    "df = df[keep_cols].dropna(subset=['count']).copy()\n",
    "df['norm_count'] = df['count'] / df['size_factor'].replace(0, np.nan)\n",
    "\n",
    "# Pivot by condition for each sgRNA×replicate\n",
    "ctrl = (\n",
    "    df[df['condition'] == cond_ctrl]\n",
    "    .pivot_table(index=['sgrna','gene','replicate'], columns='condition', values='norm_count', aggfunc='first')\n",
    ")\n",
    "trt = (\n",
    "    df[df['condition'] == cond_trt]\n",
    "    .pivot_table(index=['sgrna','gene','replicate'], columns='condition', values='norm_count', aggfunc='first')\n",
    ")\n",
    "idx = ctrl.index.union(trt.index)\n",
    "x = ctrl.reindex(idx).get(cond_ctrl)\n",
    "y = trt.reindex(idx).get(cond_trt)\n",
    "\n",
    "pc = CFG.pseudocount\n",
    "base = CFG.lfc_base\n",
    "lfc = np.log((y + pc) / (x + pc)) / np.log(base)\n",
    "lfc = pd.Series(lfc, index=idx, name='effect').reset_index()\n",
    "lfc['metric'] = 'lfc'\n",
    "\n",
    "# Optional rscreenorm-like lethality mapping if control gene sets available (scaffolding)\n",
    "neg_set, pos_set = _load_ctrl_gene_sets(CFG.neg_ctrl_genes_path, CFG.pos_ctrl_genes_path)\n",
    "if CFG.use_rscreenorm and (neg_set or pos_set):\n",
    "    # Use medians of fold change within control sets\n",
    "    lfc_ctrl = lfc.copy()\n",
    "    # Compute gene medians over sgRNAs for control sets to stabilize\n",
    "    lfc_ctrl_gene = (\n",
    "        lfc_ctrl.groupby('gene')['effect'].median().rename('gene_median').reset_index()\n",
    "    )\n",
    "    lfc_ctrl = lfc_ctrl.merge(lfc_ctrl_gene, on='gene', how='left')\n",
    "    fcneg = lfc_ctrl.loc[lfc_ctrl['gene'].isin(neg_set), 'gene_median'].median()\n",
    "    fcpos = lfc_ctrl.loc[lfc_ctrl['gene'].isin(pos_set), 'gene_median'].median()\n",
    "    if np.isfinite(fcneg) and np.isfinite(fcpos) and (fcpos != fcneg):\n",
    "        # Map to [0,1]: ls = (lfc - fcneg) / (fcpos - fcneg)\n",
    "        lfc['effect'] = (lfc['effect'] - fcneg) / (fcpos - fcneg)\n",
    "        lfc['metric'] = 'lethality'\n",
    "        print('Applied rscreenorm-like mapping using provided control sets')\n",
    "    else:\n",
    "        print('Control set medians not usable; keeping LFC metric')\n",
    "\n",
    "# Filter genes by min guides\n",
    "guide_counts = lfc.groupby('gene')['sgrna'].nunique()\n",
    "keep_genes = guide_counts[guide_counts >= CFG.min_guides_per_gene].index\n",
    "lfc = lfc[lfc['gene'].isin(keep_genes)].copy()\n",
    "print('sgRNA effects:', len(lfc), '| genes kept:', len(keep_genes), '| metric:', lfc['metric'].iloc[0] if len(lfc) else 'NA')"
   ]
  },
  {
   "cell_type": "code",
   "execution_count": 11,
   "id": "e902c25b",
   "metadata": {},
   "outputs": [
    {
     "name": "stdout",
     "output_type": "stream",
     "text": [
      "DL diagnostics — Q: 4.182e+04, df: 19111, C: 1.064e+06, Q-df: 2.271e+04, tau^2: 0.02134, I^2: 54.31%\n",
      "Genes: 19112 | primary hits (lfdr≤0.1): 278 | final hits (∩ legacy): 75\n"
     ]
    },
    {
     "data": {
      "application/vnd.microsoft.datawrangler.viewer.v0+json": {
       "columns": [
        {
         "name": "index",
         "rawType": "int64",
         "type": "integer"
        },
        {
         "name": "gene",
         "rawType": "object",
         "type": "string"
        },
        {
         "name": "effect_mean",
         "rawType": "float64",
         "type": "float"
        },
        {
         "name": "effect_var",
         "rawType": "float64",
         "type": "float"
        },
        {
         "name": "k",
         "rawType": "int64",
         "type": "integer"
        },
        {
         "name": "sigma2",
         "rawType": "float64",
         "type": "float"
        },
        {
         "name": "tau2",
         "rawType": "float64",
         "type": "float"
        },
        {
         "name": "post_mean",
         "rawType": "float64",
         "type": "float"
        },
        {
         "name": "post_se",
         "rawType": "float64",
         "type": "float"
        },
        {
         "name": "z",
         "rawType": "float64",
         "type": "float"
        },
        {
         "name": "p_two",
         "rawType": "float64",
         "type": "float"
        },
        {
         "name": "lfdr",
         "rawType": "float64",
         "type": "float"
        },
        {
         "name": "p_abs_ge_thr",
         "rawType": "float64",
         "type": "float"
        },
        {
         "name": "hit",
         "rawType": "bool",
         "type": "boolean"
        }
       ],
       "ref": "347908f1-b64d-4459-9a6c-f46c6d3f77d5",
       "rows": [
        [
         "0",
         "2023-03-01 00:00:00",
         "0.12720269143793123",
         "0.1490060185002428",
         "16",
         "0.009312876156265176",
         "0.02133913902715923",
         "0.0885552189955428",
         "0.08051945826556156",
         "1.0997989914869828",
         "0.2714197118596253",
         "0.9999435159571005",
         "0.004320331016685063",
         "False"
        ],
        [
         "1",
         "2023-03-02 00:00:00",
         "-0.10407604672607974",
         "0.24745110362986533",
         "16",
         "0.015465693976866583",
         "0.02133913902715923",
         "-0.06034243465367737",
         "0.09469362165562752",
         "-0.637238639716673",
         "0.5239694124142946",
         "0.9999435159571005",
         "0.005759747579032563",
         "False"
        ],
        [
         "2",
         "2023-03-03 00:00:00",
         "-0.13838684501329898",
         "0.3638213706897722",
         "8",
         "0.04547767133622153",
         "0.02133913902715923",
         "-0.04419630492998149",
         "0.12051599365850801",
         "-0.36672564021017295",
         "0.7138236789787437",
         "0.9999435159571005",
         "0.01903985723552311",
         "False"
        ],
        [
         "3",
         "2023-03-04 00:00:00",
         "0.2059522743521403",
         "0.18497926615260257",
         "8",
         "0.02312240826907532",
         "0.02133913902715923",
         "0.09884595752096467",
         "0.10534470052257781",
         "0.9383097301584685",
         "0.34808526079432434",
         "0.9999435159571005",
         "0.028176342164023562",
         "False"
        ],
        [
         "4",
         "2023-03-05 00:00:00",
         "-0.2136571186879132",
         "0.145238893540124",
         "8",
         "0.0181548616925155",
         "0.02133913902715923",
         "-0.11544181082551998",
         "0.09904198911490578",
         "-1.1655845349752374",
         "0.24378246350405097",
         "0.9999435159571005",
         "0.031214297342558133",
         "False"
        ]
       ],
       "shape": {
        "columns": 13,
        "rows": 5
       }
      },
      "text/html": [
       "<div>\n",
       "<style scoped>\n",
       "    .dataframe tbody tr th:only-of-type {\n",
       "        vertical-align: middle;\n",
       "    }\n",
       "\n",
       "    .dataframe tbody tr th {\n",
       "        vertical-align: top;\n",
       "    }\n",
       "\n",
       "    .dataframe thead th {\n",
       "        text-align: right;\n",
       "    }\n",
       "</style>\n",
       "<table border=\"1\" class=\"dataframe\">\n",
       "  <thead>\n",
       "    <tr style=\"text-align: right;\">\n",
       "      <th></th>\n",
       "      <th>gene</th>\n",
       "      <th>effect_mean</th>\n",
       "      <th>effect_var</th>\n",
       "      <th>k</th>\n",
       "      <th>sigma2</th>\n",
       "      <th>tau2</th>\n",
       "      <th>post_mean</th>\n",
       "      <th>post_se</th>\n",
       "      <th>z</th>\n",
       "      <th>p_two</th>\n",
       "      <th>lfdr</th>\n",
       "      <th>p_abs_ge_thr</th>\n",
       "      <th>hit</th>\n",
       "    </tr>\n",
       "  </thead>\n",
       "  <tbody>\n",
       "    <tr>\n",
       "      <th>0</th>\n",
       "      <td>2023-03-01 00:00:00</td>\n",
       "      <td>0.127203</td>\n",
       "      <td>0.149006</td>\n",
       "      <td>16</td>\n",
       "      <td>0.009313</td>\n",
       "      <td>0.021339</td>\n",
       "      <td>0.088555</td>\n",
       "      <td>0.080519</td>\n",
       "      <td>1.099799</td>\n",
       "      <td>0.271420</td>\n",
       "      <td>0.999944</td>\n",
       "      <td>0.004320</td>\n",
       "      <td>False</td>\n",
       "    </tr>\n",
       "    <tr>\n",
       "      <th>1</th>\n",
       "      <td>2023-03-02 00:00:00</td>\n",
       "      <td>-0.104076</td>\n",
       "      <td>0.247451</td>\n",
       "      <td>16</td>\n",
       "      <td>0.015466</td>\n",
       "      <td>0.021339</td>\n",
       "      <td>-0.060342</td>\n",
       "      <td>0.094694</td>\n",
       "      <td>-0.637239</td>\n",
       "      <td>0.523969</td>\n",
       "      <td>0.999944</td>\n",
       "      <td>0.005760</td>\n",
       "      <td>False</td>\n",
       "    </tr>\n",
       "    <tr>\n",
       "      <th>2</th>\n",
       "      <td>2023-03-03 00:00:00</td>\n",
       "      <td>-0.138387</td>\n",
       "      <td>0.363821</td>\n",
       "      <td>8</td>\n",
       "      <td>0.045478</td>\n",
       "      <td>0.021339</td>\n",
       "      <td>-0.044196</td>\n",
       "      <td>0.120516</td>\n",
       "      <td>-0.366726</td>\n",
       "      <td>0.713824</td>\n",
       "      <td>0.999944</td>\n",
       "      <td>0.019040</td>\n",
       "      <td>False</td>\n",
       "    </tr>\n",
       "    <tr>\n",
       "      <th>3</th>\n",
       "      <td>2023-03-04 00:00:00</td>\n",
       "      <td>0.205952</td>\n",
       "      <td>0.184979</td>\n",
       "      <td>8</td>\n",
       "      <td>0.023122</td>\n",
       "      <td>0.021339</td>\n",
       "      <td>0.098846</td>\n",
       "      <td>0.105345</td>\n",
       "      <td>0.938310</td>\n",
       "      <td>0.348085</td>\n",
       "      <td>0.999944</td>\n",
       "      <td>0.028176</td>\n",
       "      <td>False</td>\n",
       "    </tr>\n",
       "    <tr>\n",
       "      <th>4</th>\n",
       "      <td>2023-03-05 00:00:00</td>\n",
       "      <td>-0.213657</td>\n",
       "      <td>0.145239</td>\n",
       "      <td>8</td>\n",
       "      <td>0.018155</td>\n",
       "      <td>0.021339</td>\n",
       "      <td>-0.115442</td>\n",
       "      <td>0.099042</td>\n",
       "      <td>-1.165585</td>\n",
       "      <td>0.243782</td>\n",
       "      <td>0.999944</td>\n",
       "      <td>0.031214</td>\n",
       "      <td>False</td>\n",
       "    </tr>\n",
       "  </tbody>\n",
       "</table>\n",
       "</div>"
      ],
      "text/plain": [
       "                  gene  effect_mean  effect_var   k    sigma2      tau2  post_mean   post_se         z     p_two      lfdr  p_abs_ge_thr    hit\n",
       "0  2023-03-01 00:00:00     0.127203    0.149006  16  0.009313  0.021339   0.088555  0.080519  1.099799  0.271420  0.999944      0.004320  False\n",
       "1  2023-03-02 00:00:00    -0.104076    0.247451  16  0.015466  0.021339  -0.060342  0.094694 -0.637239  0.523969  0.999944      0.005760  False\n",
       "2  2023-03-03 00:00:00    -0.138387    0.363821   8  0.045478  0.021339  -0.044196  0.120516 -0.366726  0.713824  0.999944      0.019040  False\n",
       "3  2023-03-04 00:00:00     0.205952    0.184979   8  0.023122  0.021339   0.098846  0.105345  0.938310  0.348085  0.999944      0.028176  False\n",
       "4  2023-03-05 00:00:00    -0.213657    0.145239   8  0.018155  0.021339  -0.115442  0.099042 -1.165585  0.243782  0.999944      0.031214  False"
      ]
     },
     "metadata": {},
     "output_type": "display_data"
    }
   ],
   "source": [
    "# 3) Gene-level EB aggregation\n",
    "# Paper alignment:\n",
    "# - Mixed-effects EB via ShrinkBayes/INLA in the paper; here we approximate at gene-level with RE (DL tau^2).\n",
    "# - Prior mean centered at 0 (no differential lethality), not at a weighted grand mean across genes.\n",
    "# - Primary decision metric is lfdr (local fdr from Bayes factors in paper). We approximate with two-sided normal p and BH q.\n",
    "\n",
    "from scipy.stats import norm\n",
    "\n",
    "# Aggregate per gene\n",
    "g = lfc.groupby('gene')\n",
    "mu_g = g['effect'].mean().rename('effect_mean')\n",
    "s2_g = g['effect'].var(ddof=1).rename('effect_var')\n",
    "k_g = g['effect'].size().rename('k')\n",
    "gene_df = pd.concat([mu_g, s2_g, k_g], axis=1).reset_index()\n",
    "# Variance of the gene mean (within-gene): s^2 / k\n",
    "gene_df['effect_var'] = gene_df['effect_var'].fillna(gene_df['effect_var'].median())\n",
    "gene_df['sigma2'] = np.clip(gene_df['effect_var'] / gene_df['k'].clip(lower=1), 1e-8, np.inf)\n",
    "\n",
    "# DerSimonian–Laird tau^2 across genes (heterogeneity) using inverse-variance weights\n",
    "w_fe = 1.0 / gene_df['sigma2'].values\n",
    "mu0_fe = np.sum(w_fe * gene_df['effect_mean'].values) / np.sum(w_fe)\n",
    "Q = np.sum(w_fe * (gene_df['effect_mean'].values - mu0_fe) ** 2)\n",
    "df_Q = len(gene_df) - 1\n",
    "C = np.sum(w_fe) - (np.sum(w_fe**2) / np.sum(w_fe))\n",
    "tau2 = max((Q - df_Q) / max(C, 1e-12), 0.0)\n",
    "\n",
    "# EB posterior with prior N(0, tau2) centered at 0 (null: no differential effect)\n",
    "y = gene_df['effect_mean'].values\n",
    "sigma2 = gene_df['sigma2'].values\n",
    "if tau2 > 0:\n",
    "    w_obs = 1.0 / sigma2\n",
    "    w_pri = 1.0 / tau2\n",
    "    post_mean = (w_obs * y + w_pri * 0.0) / (w_obs + w_pri)\n",
    "    post_var = 1.0 / (w_obs + w_pri)\n",
    "else:\n",
    "    post_mean = y.copy()\n",
    "    post_var = sigma2.copy()\n",
    "post_se = np.sqrt(np.clip(post_var, 1e-12, np.inf))\n",
    "\n",
    "# Wald z, two-sided p, BH q as lfdr proxy\n",
    "z = post_mean / np.clip(post_se, 1e-12, np.inf)\n",
    "p_two = 2.0 * np.minimum(norm.cdf(z), 1 - norm.cdf(z))\n",
    "qvals = benjamini_hochberg(pd.Series(p_two, index=gene_df.index), alpha=CFG.alpha_lfdr)\n",
    "\n",
    "# Save columns\n",
    "gene_df['tau2'] = tau2\n",
    "gene_df['post_mean'] = post_mean\n",
    "gene_df['post_se'] = post_se\n",
    "gene_df['z'] = z\n",
    "gene_df['p_two'] = p_two\n",
    "gene_df['lfdr'] = qvals.values  # using BH q as practical lfdr substitute\n",
    "\n",
    "# Additional probability and legacy hit rule (optional secondary filter)\n",
    "thr = CFG.effect_thresh\n",
    "p_pos = 1 - norm.cdf((thr - gene_df['post_mean']) / gene_df['post_se'])\n",
    "p_neg = norm.cdf((-thr - gene_df['post_mean']) / gene_df['post_se'])\n",
    "gene_df['p_abs_ge_thr'] = (p_pos + p_neg).clip(0, 1)\n",
    "\n",
    "# Primary hit call per paper: lfdr <= alpha\n",
    "hit_primary = gene_df['lfdr'] <= CFG.alpha_lfdr\n",
    "# Optional stricter rule (intersection) to be conservative in small-n settings\n",
    "hit_legacy = (gene_df['p_abs_ge_thr'] >= CFG.prob_min)\n",
    "\n",
    "gene_df['hit'] = hit_primary & hit_legacy\n",
    "\n",
    "# Diagnostics\n",
    "I2 = max((Q - df_Q) / max(Q, 1e-12), 0.0)\n",
    "print(f\"DL diagnostics — Q: {Q:.4g}, df: {df_Q}, C: {C:.4g}, Q-df: {Q - df_Q:.4g}, tau^2: {tau2:.4g}, I^2: {I2:.2%}\")\n",
    "print(f\"Genes: {len(gene_df)} | primary hits (lfdr≤{CFG.alpha_lfdr}): {int(hit_primary.sum())} | final hits (∩ legacy): {int(gene_df['hit'].sum())}\")\n",
    "display(gene_df.head())"
   ]
  },
  {
   "cell_type": "code",
   "execution_count": 13,
   "id": "2dd79a74",
   "metadata": {},
   "outputs": [
    {
     "name": "stdout",
     "output_type": "stream",
     "text": [
      "Saved:\n",
      "  /Users/ryodaikim/Desktop/0.projects/CRISPR-bayes/outputs/tables/shrinkcrispr_gene_summary.csv\n",
      "  /Users/ryodaikim/Desktop/0.projects/CRISPR-bayes/outputs/tables/shrinkcrispr_hits.csv (n=75)\n"
     ]
    }
   ],
   "source": [
    "# 4) Save outputs\n",
    "shrink_gene_summary = gene_df.copy()\n",
    "# Column was renamed to lfdr (BH q); keep a backward-compatible alias\n",
    "shrink_gene_summary = shrink_gene_summary.rename(columns={'lfdr':'lfdr'})\n",
    "shrink_hits = shrink_gene_summary.loc[shrink_gene_summary['hit'], ['gene','post_mean','lfdr','p_abs_ge_thr']]\n",
    "p_gene = table_dir / 'shrinkcrispr_gene_summary.csv'\n",
    "p_hits = table_dir / 'shrinkcrispr_hits.csv'\n",
    "shrink_gene_summary.to_csv(p_gene, index=False)\n",
    "shrink_hits.to_csv(p_hits, index=False)\n",
    "print(f'Saved:\\n  {p_gene}\\n  {p_hits} (n={len(shrink_hits)})')"
   ]
  },
  {
   "cell_type": "code",
   "execution_count": 18,
   "id": "6fbdfe2e",
   "metadata": {},
   "outputs": [
    {
     "name": "stdout",
     "output_type": "stream",
     "text": [
      "Saved figure: /Users/ryodaikim/Desktop/0.projects/CRISPR-bayes/outputs/figures/volcano_plot_shrinkcrispr.png\n"
     ]
    },
    {
     "data": {
      "image/png": "[encoded data removed]",
      "text/plain": [
       "<Figure size 2400x1800 with 1 Axes>"
      ]
     },
     "metadata": {},
     "output_type": "display_data"
    }
   ],
   "source": [
    "# 5) Volcano plot\n",
    "import matplotlib.pyplot as plt\n",
    "import numpy as np\n",
    "\n",
    "dfv = shrink_gene_summary.copy()\n",
    "x = dfv['post_mean'].astype(float).values\n",
    "# Use -log10(lfdr) with epsilon to avoid inf; color non-hits gray\n",
    "y = -np.log10(np.clip(dfv['lfdr'].astype(float).values, 1e-300, 1.0) + 10e-6)\n",
    "hits = dfv['hit'].fillna(False).values\n",
    "colors = np.where(hits, np.where(x >= 0, '#d62728', '#1f77b4'), '#b0b0b0')\n",
    "\n",
    "plt.figure(figsize=(8,6))\n",
    "plt.scatter(x, y, c=colors, s=14, alpha=0.75, linewidths=0)\n",
    "plt.axvline(0, color='k', linestyle='--', alpha=0.3)\n",
    "xmax = float(np.nanmax(np.abs(x))) if x.size else 1.0\n",
    "if np.isfinite(xmax) and xmax > 0:\n",
    "    plt.xlim(-1.05 * xmax, 1.05 * xmax)\n",
    "plt.xlabel('Posterior mean effect (ShrinkCRISPR approx)')\n",
    "plt.ylabel('-log10(lfdr)')\n",
    "plt.title('Volcano — ShrinkCRISPR-aligned (lfdr threshold, non-hits gray)')\n",
    "plt.tight_layout()\n",
    "out_fig = fig_dir / 'volcano_plot_shrinkcrispr.png'\n",
    "plt.savefig(out_fig, dpi=150, bbox_inches='tight')\n",
    "print(f'Saved figure: {out_fig}')\n",
    "plt.show()"
   ]
  },
  {
   "cell_type": "code",
   "execution_count": 15,
   "id": "f88a2b70",
   "metadata": {},
   "outputs": [
    {
     "name": "stdout",
     "output_type": "stream",
     "text": [
      "Saved overlaps:\n",
      "  /Users/ryodaikim/Desktop/0.projects/CRISPR-bayes/outputs/tables/overlap_shrinkcrispr_and_nb_multi_nuts.csv\n",
      "  /Users/ryodaikim/Desktop/0.projects/CRISPR-bayes/outputs/tables/overlap_shrinkcrispr_and_mageck.csv\n",
      "  /Users/ryodaikim/Desktop/0.projects/CRISPR-bayes/outputs/tables/overlap_shrinkcrispr_only.csv\n"
     ]
    }
   ],
   "source": [
    "# 6) Overlaps with NB Multi NUTS and MAGeCK (if present)\n",
    "from pathlib import Path\n",
    "import pandas as pd\n",
    "\n",
    "nuts_hits_path = table_dir / 'hits_nb_multi_nuts.csv'\n",
    "mageck_labels1 = table_dir / 'bench_reference_labels.csv'\n",
    "mageck_labels2 = table_dir / 'bench_mageck_hits.csv'\n",
    "\n",
    "shrink_set = set(shrink_hits['gene'].astype(str))\n",
    "nuts_set = set()\n",
    "mageck_set = set()\n",
    "\n",
    "if nuts_hits_path.exists():\n",
    "    nd = pd.read_csv(nuts_hits_path)\n",
    "    if {'gene','hit'}.issubset(nd.columns):\n",
    "        nuts_set = set(nd.loc[nd['hit'], 'gene'].dropna().astype(str))\n",
    "    elif 'gene' in nd.columns:\n",
    "        nuts_set = set(nd['gene'].dropna().astype(str))\n",
    "\n",
    "if mageck_labels1.exists():\n",
    "    mg = pd.read_csv(mageck_labels1)\n",
    "    if {'gene','label'}.issubset(mg.columns):\n",
    "        mageck_set = set(mg.loc[mg['label'].astype(bool), 'gene'].dropna().astype(str))\n",
    "elif mageck_labels2.exists():\n",
    "    mg = pd.read_csv(mageck_labels2)\n",
    "    if {'gene','hit'}.issubset(mg.columns):\n",
    "        mageck_set = set(mg.loc[mg['hit'].astype(bool), 'gene'].dropna().astype(str))\n",
    "\n",
    "common_nuts = sorted(shrink_set & nuts_set)\n",
    "common_mageck = sorted(shrink_set & mageck_set)\n",
    "only_shrink = sorted(shrink_set - nuts_set - mageck_set)\n",
    "\n",
    "out1 = table_dir / 'overlap_shrinkcrispr_and_nb_multi_nuts.csv'\n",
    "out2 = table_dir / 'overlap_shrinkcrispr_and_mageck.csv'\n",
    "out3 = table_dir / 'overlap_shrinkcrispr_only.csv'\n",
    "pd.DataFrame({'gene': common_nuts}).to_csv(out1, index=False)\n",
    "pd.DataFrame({'gene': common_mageck}).to_csv(out2, index=False)\n",
    "pd.DataFrame({'gene': only_shrink}).to_csv(out3, index=False)\n",
    "print(f'Saved overlaps:\\n  {out1}\\n  {out2}\\n  {out3}')\n"
   ]
  }
 ],
 "metadata": {
  "kernelspec": {
   "display_name": ".venv (3.13.7)",
   "language": "python",
   "name": "python3"
  },
  "language_info": {
   "codemirror_mode": {
    "name": "ipython",
    "version": 3
   },
   "file_extension": ".py",
   "mimetype": "text/x-python",
   "name": "python",
   "nbconvert_exporter": "python",
   "pygments_lexer": "ipython3",
   "version": "3.13.7"
  }
 },
 "nbformat": 4,
 "nbformat_minor": 5
}
